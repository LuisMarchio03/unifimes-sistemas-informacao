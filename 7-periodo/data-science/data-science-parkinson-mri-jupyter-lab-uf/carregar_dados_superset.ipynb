{
 "cells": [
  {
   "cell_type": "markdown",
   "id": "9c02e0d0",
   "metadata": {},
   "source": [
    "# Converter Dados CSV para SQLite e Integrar com Apache Superset\n",
    "\n",
    "Este notebook irá:\n",
    "1. Carregar dados dos CSVs\n",
    "2. Criar um banco SQLite otimizado\n",
    "3. Preparar os dados para visualização no Superset\n",
    "4. Adicionar metadados e descrições amigáveis"
   ]
  },
  {
   "cell_type": "markdown",
   "id": "73bde581",
   "metadata": {},
   "source": [
    "## 1. Importar Bibliotecas Necessárias"
   ]
  },
  {
   "cell_type": "code",
   "execution_count": 68,
   "id": "7eb4a9f4",
   "metadata": {},
   "outputs": [],
   "source": [
    "import pandas as pd\n",
    "from sqlalchemy import create_engine, text\n",
    "import os\n",
    "from pathlib import Path\n",
    "import socket\n",
    "\n",
    "# Configurar diretórios\n",
    "BASE_DIR = Path('dados_processados')\n",
    "\n",
    "# Determinar o host correto baseado no ambiente\n",
    "def get_db_host():\n",
    "    try:\n",
    "        # Tenta resolver o nome 'db' (funcionará dentro do Docker)\n",
    "        socket.gethostbyname('db')\n",
    "        return 'db'\n",
    "    except socket.gaierror:\n",
    "        # Se não conseguir resolver, usa localhost\n",
    "        return 'localhost'\n",
    "\n",
    "# Configuração do PostgreSQL\n",
    "DB_CONFIG = {\n",
    "    'host': get_db_host(),\n",
    "    'database': 'superset',\n",
    "    'user': 'superset',\n",
    "    'password': 'superset',\n",
    "    'port': 5432\n",
    "}\n",
    "\n",
    "# Configurar warnings\n",
    "import warnings\n",
    "warnings.filterwarnings('ignore')"
   ]
  },
  {
   "cell_type": "markdown",
   "id": "95910397",
   "metadata": {},
   "source": [
    "## 1. Configurar Banco de Dados SQLite\n",
    "\n",
    "Vamos criar um novo banco SQLite otimizado para análise de dados.\n",
    "Este banco poderá ser facilmente conectado ao Apache Superset."
   ]
  },
  {
   "cell_type": "code",
   "execution_count": 69,
   "id": "dd54586b",
   "metadata": {},
   "outputs": [
    {
     "name": "stdout",
     "output_type": "stream",
     "text": [
      "Conexão estabelecida com: localhost\n"
     ]
    }
   ],
   "source": [
    "def criar_conexao_postgres():\n",
    "    \"\"\"Cria uma conexão com PostgreSQL\"\"\"\n",
    "    try:\n",
    "        db_url = f\"postgresql://{DB_CONFIG['user']}:{DB_CONFIG['password']}@{DB_CONFIG['host']}:{DB_CONFIG['port']}/{DB_CONFIG['database']}\"\n",
    "        engine = create_engine(db_url)\n",
    "        # Testar conexão\n",
    "        with engine.connect() as conn:\n",
    "            conn.execute(text(\"SELECT 1\"))\n",
    "        print(f'Conexão estabelecida com: {DB_CONFIG[\"host\"]}')\n",
    "        return engine\n",
    "    except Exception as e:\n",
    "        print(f\"Erro ao conectar: {e}\")\n",
    "        print(\"\\nVerifique se:\")\n",
    "        print(\"1. O PostgreSQL está rodando\")\n",
    "        print(\"2. As credenciais estão corretas\")\n",
    "        print(\"3. O host e porta estão acessíveis\")\n",
    "        raise\n",
    "\n",
    "# Criar conexão\n",
    "engine = criar_conexao_postgres()"
   ]
  },
  {
   "cell_type": "markdown",
   "id": "656473f6",
   "metadata": {},
   "source": [
    "## 2. Preparar e Carregar Dados\n",
    "\n",
    "Vamos carregar os CSVs e preparar os dados com nomes e descrições mais amigáveis para visualização"
   ]
  },
  {
   "cell_type": "code",
   "execution_count": 70,
   "id": "9e459633",
   "metadata": {},
   "outputs": [
    {
     "name": "stdout",
     "output_type": "stream",
     "text": [
      "Carregando metricas_imagens...\n",
      "- 338 registros carregados\n",
      "Carregando dados_dicom...\n",
      "- 338 registros carregados\n"
     ]
    }
   ],
   "source": [
    "# Dicionário com metadados das tabelas\n",
    "TABELAS = {\n",
    "    'metricas_imagens': {\n",
    "        'arquivo': 'features_imagens.csv',\n",
    "        'descricao': 'Métricas extraídas das imagens de ressonância magnética',\n",
    "        'colunas': {\n",
    "            'media_intensidade': {'nome': 'brilho_medio', 'descricao': 'Nível médio de claridade da imagem'},\n",
    "            'desvio_padrao': {'nome': 'variacao_tons', 'descricao': 'Quanto os tons variam na imagem'},\n",
    "            'mediana': {'nome': 'tom_predominante', 'descricao': 'Cor/tom que mais aparece na imagem'},\n",
    "            'max': {'nome': 'ponto_mais_claro', 'descricao': 'Região mais clara da imagem'},\n",
    "            'min': {'nome': 'ponto_mais_escuro', 'descricao': 'Região mais escura da imagem'},\n",
    "            'variancia': {'nome': 'dispersao_tons', 'descricao': 'Quão espalhados estão os tons na imagem'},\n",
    "            'entropia': {'nome': 'complexidade_imagem', 'descricao': 'Quantidade de detalhes na imagem'}\n",
    "        }\n",
    "    },\n",
    "    'dados_dicom': {\n",
    "        'arquivo': 'dados_dicom_processados.csv',\n",
    "        'descricao': 'Informações extraídas dos arquivos DICOM',\n",
    "        'colunas': {}\n",
    "    }\n",
    "}\n",
    "\n",
    "# Função para carregar e transformar dados\n",
    "def carregar_dados(tabela_info):\n",
    "    # Carregar CSV\n",
    "    df = pd.read_csv(BASE_DIR / tabela_info['arquivo'])\n",
    "    \n",
    "    # Renomear colunas se houver mapeamento\n",
    "    if tabela_info['colunas']:\n",
    "        mapeamento = {old: info['nome'] \n",
    "                     for old, info in tabela_info['colunas'].items()}\n",
    "        df = df.rename(columns=mapeamento)\n",
    "    \n",
    "    return df\n",
    "\n",
    "# Carregar todos os dados\n",
    "dataframes = {}\n",
    "for tabela, info in TABELAS.items():\n",
    "    print(f'Carregando {tabela}...')\n",
    "    dataframes[tabela] = carregar_dados(info)\n",
    "    print(f'- {len(dataframes[tabela])} registros carregados')"
   ]
  },
  {
   "cell_type": "markdown",
   "id": "3e2b4c90",
   "metadata": {},
   "source": [
    "## 4. Criar Tabelas no SQLite\n",
    "\n",
    "Vamos criar tabelas com descrições amigáveis para melhor compreensão"
   ]
  },
  {
   "cell_type": "code",
   "execution_count": 71,
   "id": "714104ae",
   "metadata": {},
   "outputs": [
    {
     "name": "stdout",
     "output_type": "stream",
     "text": [
      "Tabelas criadas com sucesso!\n",
      "Carregando metricas_imagens no PostgreSQL...\n",
      "- Tabela metricas_imagens criada com 338 registros\n",
      "Carregando dados_dicom no PostgreSQL...\n",
      "- Tabela dados_dicom criada com 338 registros\n"
     ]
    }
   ],
   "source": [
    "# SQL para criar a tabela de métricas (PostgreSQL)\n",
    "CREATE_FEATURES_TABLE = \"\"\"\n",
    "DROP TABLE IF EXISTS metricas_imagens;\n",
    "CREATE TABLE metricas_imagens (\n",
    "    id SERIAL PRIMARY KEY,\n",
    "    brilho_medio REAL,\n",
    "    variacao_tons REAL,\n",
    "    tom_predominante REAL,\n",
    "    ponto_mais_claro REAL,\n",
    "    ponto_mais_escuro REAL,\n",
    "    dispersao_tons REAL,\n",
    "    complexidade_imagem REAL\n",
    ");\n",
    "\n",
    "COMMENT ON TABLE metricas_imagens IS 'Métricas extraídas das imagens de ressonância magnética';\n",
    "COMMENT ON COLUMN metricas_imagens.brilho_medio IS 'Nível médio de claridade da imagem';\n",
    "COMMENT ON COLUMN metricas_imagens.variacao_tons IS 'Quanto os tons variam na imagem';\n",
    "COMMENT ON COLUMN metricas_imagens.tom_predominante IS 'Cor/tom que mais aparece na imagem';\n",
    "COMMENT ON COLUMN metricas_imagens.ponto_mais_claro IS 'Região mais clara da imagem';\n",
    "COMMENT ON COLUMN metricas_imagens.ponto_mais_escuro IS 'Região mais escura da imagem';\n",
    "COMMENT ON COLUMN metricas_imagens.dispersao_tons IS 'Quão espalhados estão os tons na imagem';\n",
    "COMMENT ON COLUMN metricas_imagens.complexidade_imagem IS 'Quantidade de detalhes na imagem';\n",
    "\"\"\"\n",
    "\n",
    "# Executar criação das tabelas\n",
    "with engine.connect() as conn:\n",
    "    conn.execute(text(CREATE_FEATURES_TABLE))\n",
    "    conn.commit()\n",
    "\n",
    "print('Tabelas criadas com sucesso!')\n",
    "\n",
    "# Carregar dados\n",
    "for tabela, df in dataframes.items():\n",
    "    print(f'Carregando {tabela} no PostgreSQL...')\n",
    "    df.to_sql(tabela, engine, if_exists='replace', index=False)\n",
    "    print(f'- Tabela {tabela} criada com {len(df)} registros')"
   ]
  },
  {
   "cell_type": "markdown",
   "id": "4f890927",
   "metadata": {},
   "source": [
    "## 3. Verificar Dados e Metadados\n",
    "\n",
    "Vamos confirmar que os dados foram carregados corretamente e que os metadados estão acessíveis"
   ]
  },
  {
   "cell_type": "code",
   "execution_count": 72,
   "id": "4a423ef7",
   "metadata": {},
   "outputs": [
    {
     "name": "stdout",
     "output_type": "stream",
     "text": [
      "\n",
      "Total de registros carregados: 338\n",
      "\n",
      "Amostra da tabela metricas_imagens:\n",
      "   brilho_medio  variacao_tons  tom_predominante  ponto_mais_claro  \\\n",
      "0      0.221307       0.314409           0.00000               1.0   \n",
      "1      0.113735       0.259954           0.00996               1.0   \n",
      "2      0.113735       0.259954           0.00996               1.0   \n",
      "\n",
      "   ponto_mais_escuro  dispersao_tons  complexidade_imagem  \n",
      "0                0.0        0.098853          -107.000002  \n",
      "1                0.0        0.067576          -155.096356  \n",
      "2                0.0        0.067576          -155.096356  \n",
      "\n",
      "Tabela \"metadados\" não existe no banco de dados.\n",
      "\n",
      "Amostra da tabela dados_dicom:\n",
      "                                             arquivo  paciente_nome  \\\n",
      "0  PPMI_101179_MR_2D_GRE_MT__br_raw_2022041921350...  DE-IDENTIFIED   \n",
      "1  PPMI_101492_MR_rsfMRI_RL__br_raw_2021091622484...  DE-IDENTIFIED   \n",
      "2  PPMI_101492_MR_rsfMRI_RL__br_raw_2021091622484...  DE-IDENTIFIED   \n",
      "\n",
      "   paciente_id idade sexo modalidade  data_estudo               fabricante  \\\n",
      "0       101179  052Y    F         MR     20220404  Philips Medical Systems   \n",
      "1       101492  051Y    M         MR     20210525  Philips Medical Systems   \n",
      "2       101492  051Y    M         MR     20210525  Philips Medical Systems   \n",
      "\n",
      "   num_frames                                     caminho_imagem  \\\n",
      "0          80  imagens_convertidas\\originais\\PPMI_101179_MR_2...   \n",
      "1        9600  imagens_convertidas\\originais\\PPMI_101492_MR_r...   \n",
      "2        9600  imagens_convertidas\\originais\\PPMI_101492_MR_r...   \n",
      "\n",
      "                          caminho_imagem_normalizada  media_intensidade  \\\n",
      "0  imagens_convertidas\\normalizadas\\PPMI_101179_M...           0.221307   \n",
      "1  imagens_convertidas\\normalizadas\\PPMI_101492_M...           0.113735   \n",
      "2  imagens_convertidas\\normalizadas\\PPMI_101492_M...           0.113735   \n",
      "\n",
      "   desvio_padrao  mediana  max  min  variancia    entropia data_processamento  \n",
      "0       0.314409  0.00000  1.0  0.0   0.098853 -107.000002         2025-06-04  \n",
      "1       0.259954  0.00996  1.0  0.0   0.067576 -155.096356         2025-06-04  \n",
      "2       0.259954  0.00996  1.0  0.0   0.067576 -155.096356         2025-06-04  \n",
      "\n",
      "Tabela \"metadados\" não existe no banco de dados.\n",
      "\n",
      "Amostra da tabela dados_dicom:\n",
      "                                             arquivo  paciente_nome  \\\n",
      "0  PPMI_101179_MR_2D_GRE_MT__br_raw_2022041921350...  DE-IDENTIFIED   \n",
      "1  PPMI_101492_MR_rsfMRI_RL__br_raw_2021091622484...  DE-IDENTIFIED   \n",
      "2  PPMI_101492_MR_rsfMRI_RL__br_raw_2021091622484...  DE-IDENTIFIED   \n",
      "\n",
      "   paciente_id idade sexo modalidade  data_estudo               fabricante  \\\n",
      "0       101179  052Y    F         MR     20220404  Philips Medical Systems   \n",
      "1       101492  051Y    M         MR     20210525  Philips Medical Systems   \n",
      "2       101492  051Y    M         MR     20210525  Philips Medical Systems   \n",
      "\n",
      "   num_frames                                     caminho_imagem  \\\n",
      "0          80  imagens_convertidas\\originais\\PPMI_101179_MR_2...   \n",
      "1        9600  imagens_convertidas\\originais\\PPMI_101492_MR_r...   \n",
      "2        9600  imagens_convertidas\\originais\\PPMI_101492_MR_r...   \n",
      "\n",
      "                          caminho_imagem_normalizada  media_intensidade  \\\n",
      "0  imagens_convertidas\\normalizadas\\PPMI_101179_M...           0.221307   \n",
      "1  imagens_convertidas\\normalizadas\\PPMI_101492_M...           0.113735   \n",
      "2  imagens_convertidas\\normalizadas\\PPMI_101492_M...           0.113735   \n",
      "\n",
      "   desvio_padrao  mediana  max  min  variancia    entropia data_processamento  \n",
      "0       0.314409  0.00000  1.0  0.0   0.098853 -107.000002         2025-06-04  \n",
      "1       0.259954  0.00996  1.0  0.0   0.067576 -155.096356         2025-06-04  \n",
      "2       0.259954  0.00996  1.0  0.0   0.067576 -155.096356         2025-06-04  \n",
      "\n",
      "Tabela \"metadados\" não existe no banco de dados.\n"
     ]
    }
   ],
   "source": [
    "# Verificar quantidade de registros\n",
    "with engine.connect() as conn:\n",
    "    result = conn.execute(text('SELECT COUNT(*) FROM metricas_imagens'))\n",
    "    count = result.fetchone()[0]\n",
    "    print(f'\\nTotal de registros carregados: {count}')\n",
    "\n",
    "# Verificar dados\n",
    "for tabela in TABELAS.keys():\n",
    "    # Verificar se a tabela existe no banco\n",
    "    table_exists = engine.dialect.has_table(engine.connect(), tabela)\n",
    "    if table_exists:\n",
    "        print(f'\\nAmostra da tabela {tabela}:')\n",
    "        # Montar a query diretamente com o nome da tabela\n",
    "        query = f'SELECT * FROM {tabela} LIMIT 3'\n",
    "        df = pd.read_sql(query, engine)\n",
    "        print(df)\n",
    "    else:\n",
    "        print(f'\\nTabela {tabela} não existe no banco de dados.')\n",
    "\n",
    "    # Verificar se a tabela 'metadados' existe antes de consultar\n",
    "    if engine.dialect.has_table(engine.connect(), 'metadados'):\n",
    "        print(f'\\nMetadados da tabela {tabela}:')\n",
    "        query = text('SELECT * FROM metadados WHERE tabela = :tabela')\n",
    "        df = pd.read_sql(query, engine, params={'tabela': tabela})\n",
    "        print(df)\n",
    "    else:\n",
    "        print(f'\\nTabela \"metadados\" não existe no banco de dados.')"
   ]
  },
  {
   "cell_type": "markdown",
   "id": "680663e6",
   "metadata": {},
   "source": [
    "## 6. Verificar os Dados Carregados\n",
    "\n",
    "Vamos fazer uma consulta para confirmar que os dados foram carregados corretamente"
   ]
  },
  {
   "cell_type": "code",
   "execution_count": 73,
   "id": "9590f57c",
   "metadata": {},
   "outputs": [
    {
     "name": "stdout",
     "output_type": "stream",
     "text": [
      "Amostra dos dados carregados:\n",
      "   brilho_medio  variacao_tons  tom_predominante  ponto_mais_claro  \\\n",
      "0      0.221307       0.314409          0.000000               1.0   \n",
      "1      0.113735       0.259954          0.009960               1.0   \n",
      "2      0.113735       0.259954          0.009960               1.0   \n",
      "3      0.140676       0.286658          0.014545               1.0   \n",
      "4      0.140821       0.286765          0.014528               1.0   \n",
      "\n",
      "   ponto_mais_escuro  dispersao_tons  complexidade_imagem  \n",
      "0                0.0        0.098853          -107.000002  \n",
      "1                0.0        0.067576          -155.096356  \n",
      "2                0.0        0.067576          -155.096356  \n",
      "3                0.0        0.082173          -152.440264  \n",
      "4                0.0        0.082234          -152.452309  \n"
     ]
    }
   ],
   "source": [
    "# Consultar alguns registros usando consulta parametrizada\n",
    "query = text(\"\"\"\n",
    "SELECT * FROM metricas_imagens \n",
    "LIMIT :limit\n",
    "\"\"\")\n",
    "\n",
    "# Executar consulta com parâmetros\n",
    "params = {'limit': 5}\n",
    "result_df = pd.read_sql(query, engine, params=params)\n",
    "\n",
    "print('Amostra dos dados carregados:')\n",
    "print(result_df)"
   ]
  },
  {
   "cell_type": "markdown",
   "id": "15ce8789",
   "metadata": {},
   "source": [
    "## 7. Análise Estatística Descritiva\n",
    "\n",
    "Vamos gerar algumas estatísticas básicas para entender melhor nossos dados"
   ]
  },
  {
   "cell_type": "code",
   "execution_count": 74,
   "id": "534e95e6",
   "metadata": {},
   "outputs": [
    {
     "name": "stdout",
     "output_type": "stream",
     "text": [
      "Estatísticas descritivas das métricas:\n",
      "\n",
      "Média dos valores:\n",
      "brilho_medio             0.172927\n",
      "variacao_tons            0.309621\n",
      "tom_predominante         0.014459\n",
      "ponto_mais_claro         1.000000\n",
      "ponto_mais_escuro        0.000000\n",
      "dispersao_tons           0.095957\n",
      "complexidade_imagem   -133.524625\n",
      "dtype: float64\n",
      "\n",
      "Desvio padrão:\n",
      "brilho_medio           0.010650\n",
      "variacao_tons          0.009636\n",
      "tom_predominante       0.001301\n",
      "ponto_mais_claro       0.000000\n",
      "ponto_mais_escuro      0.000000\n",
      "dispersao_tons         0.005934\n",
      "complexidade_imagem    4.067320\n",
      "dtype: float64\n",
      "\n",
      "Valores mínimos:\n",
      "brilho_medio             0.113735\n",
      "variacao_tons            0.259954\n",
      "tom_predominante         0.000000\n",
      "ponto_mais_claro         1.000000\n",
      "ponto_mais_escuro        0.000000\n",
      "dispersao_tons           0.067576\n",
      "complexidade_imagem   -155.096356\n",
      "dtype: float64\n",
      "\n",
      "Valores máximos:\n",
      "brilho_medio             0.221307\n",
      "variacao_tons            0.324538\n",
      "tom_predominante         0.015203\n",
      "ponto_mais_claro         1.000000\n",
      "ponto_mais_escuro        0.000000\n",
      "dispersao_tons           0.105325\n",
      "complexidade_imagem   -107.000002\n",
      "dtype: float64\n"
     ]
    }
   ],
   "source": [
    "# Estatísticas descritivas\n",
    "print('Estatísticas descritivas das métricas:')\n",
    "print('\\nMédia dos valores:')\n",
    "print(df_features_renamed.mean())\n",
    "\n",
    "print('\\nDesvio padrão:')\n",
    "print(df_features_renamed.std())\n",
    "\n",
    "print('\\nValores mínimos:')\n",
    "print(df_features_renamed.min())\n",
    "\n",
    "print('\\nValores máximos:')\n",
    "print(df_features_renamed.max())"
   ]
  },
  {
   "cell_type": "markdown",
   "id": "9f6c8112",
   "metadata": {},
   "source": [
    "## 8. Matriz de Correlação\n",
    "\n",
    "Vamos visualizar como as diferentes métricas se relacionam entre si"
   ]
  },
  {
   "cell_type": "code",
   "execution_count": 75,
   "id": "33091976",
   "metadata": {},
   "outputs": [
    {
     "data": {
      "image/png": "[encoded data removed]",
      "text/plain": [
       "<Figure size 1200x800 with 2 Axes>"
      ]
     },
     "metadata": {},
     "output_type": "display_data"
    },
    {
     "name": "stdout",
     "output_type": "stream",
     "text": [
      "\n",
      "Correlações mais significativas:\n",
      "brilho_medio x variacao_tons: 0.96\n",
      "brilho_medio x tom_predominante: -0.50\n",
      "brilho_medio x dispersao_tons: 0.96\n",
      "brilho_medio x complexidade_imagem: 0.83\n",
      "dispersao_tons x variacao_tons: 1.00\n",
      "complexidade_imagem x variacao_tons: 0.67\n",
      "complexidade_imagem x dispersao_tons: 0.65\n"
     ]
    }
   ],
   "source": [
    "# Calcular e mostrar correlações\n",
    "import seaborn as sns\n",
    "import matplotlib.pyplot as plt\n",
    "\n",
    "# Configurar o tamanho da figura\n",
    "plt.figure(figsize=(12, 8))\n",
    "\n",
    "# Criar mapa de calor das correlações\n",
    "sns.heatmap(df_features_renamed.corr(), \n",
    "            annot=True, \n",
    "            cmap='coolwarm', \n",
    "            center=0,\n",
    "            fmt='.2f')\n",
    "\n",
    "plt.title('Correlação entre as Métricas das Imagens')\n",
    "plt.tight_layout()\n",
    "plt.show()\n",
    "\n",
    "# Explicar as correlações mais fortes\n",
    "corr_matrix = df_features_renamed.corr()\n",
    "print('\\nCorrelações mais significativas:')\n",
    "for col1 in corr_matrix.columns:\n",
    "    for col2 in corr_matrix.columns:\n",
    "        if col1 < col2 and abs(corr_matrix.loc[col1, col2]) > 0.5:\n",
    "            print(f'{col1} x {col2}: {corr_matrix.loc[col1, col2]:.2f}')"
   ]
  },
  {
   "cell_type": "markdown",
   "id": "4891c90e",
   "metadata": {},
   "source": [
    "## 4. Conectar com Apache Superset\n",
    "\n",
    "Para conectar este banco ao Apache Superset:\n",
    "\n",
    "1. Acesse o Superset em http://localhost:8088\n",
    "2. Vá em 'Data -> Database Connections'\n",
    "3. Clique em '+ Database'\n",
    "4. Selecione 'PostgreSQL' como tipo de banco\n",
    "5. Configure a conexão:\n",
    "   - Nome: Análise de Imagens\n",
    "   - URI: postgresql://superset:superset@db:5432/superset\n",
    "\n",
    "Agora você pode:\n",
    "1. Criar datasets a partir das tabelas\n",
    "2. Usar as descrições amigáveis nas visualizações\n",
    "3. Criar dashboards interativos"
   ]
  }
 ],
 "metadata": {
  "kernelspec": {
   "display_name": "Python 3",
   "language": "python",
   "name": "python3"
  },
  "language_info": {
   "codemirror_mode": {
    "name": "ipython",
    "version": 3
   },
   "file_extension": ".py",
   "mimetype": "text/x-python",
   "name": "python",
   "nbconvert_exporter": "python",
   "pygments_lexer": "ipython3",
   "version": "3.13.2"
  }
 },
 "nbformat": 4,
 "nbformat_minor": 5
}
